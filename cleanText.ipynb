{
 "cells": [
  {
   "cell_type": "code",
   "execution_count": 1,
   "metadata": {},
   "outputs": [],
   "source": [
    "import pandas as pd\n",
    "import numpy as np\n",
    "import re"
   ]
  },
  {
   "cell_type": "markdown",
   "metadata": {},
   "source": [
    "The original dataset"
   ]
  },
  {
   "cell_type": "code",
   "execution_count": 5,
   "metadata": {},
   "outputs": [],
   "source": [
    "fix_path = r\"M:\\Python\\mocnhien\\result\\fix_text_updated.csv\"\n",
    "df = pd.read_csv(fix_path)"
   ]
  },
  {
   "cell_type": "code",
   "execution_count": 6,
   "metadata": {},
   "outputs": [
    {
     "data": {
      "text/plain": [
       "Department\n",
       "Thần kinh - Tâm thần    3904\n",
       "Xét nghiệm              2748\n",
       "Nội tiết                2149\n",
       "Truyền nhiễm            1898\n",
       "Tai mũi họng            1732\n",
       "Tiêu hóa - Gan mật      1672\n",
       "Da liễu                 1549\n",
       "Răng hàm mặt            1493\n",
       "Hô hấp                  1394\n",
       "Tiết niệu - Nam khoa    1358\n",
       "Tim mạch - Mạch máu     1178\n",
       "Máu                     1038\n",
       "Ung thư                 1025\n",
       "Dị ứng                   992\n",
       "Nhãn khoa                949\n",
       "Name: count, dtype: int64"
      ]
     },
     "execution_count": 6,
     "metadata": {},
     "output_type": "execute_result"
    }
   ],
   "source": [
    "df['Department'].value_counts()"
   ]
  },
  {
   "cell_type": "code",
   "execution_count": null,
   "metadata": {},
   "outputs": [],
   "source": [
    "df = df.dropna(subset=['Department', 'Symptom', 'Category'])"
   ]
  },
  {
   "cell_type": "code",
   "execution_count": 4,
   "metadata": {},
   "outputs": [
    {
     "data": {
      "text/plain": [
       "'Có 2 hoặc nhiều hơn 2 trạng thái của các nhân cách thay phiên nhau chi phối người bệnh . Các rối loạn về tâm lý này không phải do ảnh hưởng của thuốc hay hóa chất . Các\\xa0triệu chứng điển hình mà người mắc bệnh đa nhân cách thường có như sau: . Người mắc bệnh rối loạn đa nhân cách thường có các hành vi, cảm xúc khác bất\\xa0bình thường và những những diễn biến tâm lý phức tạp . Khi bị một nhân cách này chi phối, người bệnh có khả năng quên các thông tin quan trọng liên quan đến các nhân cách tiềm ẩn khác, thậm chí không thể xem đó là chứng quên thông thường . Tuy rối loạn đa nhân cách là một căn bệnh rất hiếm gặp, nhưng nếu bạn thấy mình đang có các dấu hiệu của căn bệnh này thì tốt nhất nên đi khám và điều trị sớm \\xa0 . Các nhân cách hoàn toàn riêng biệt, tương đối ổn định về nhận thức, quan hệ gia đình, xã hội, khả năng miêu tả thế giới xung quanh '"
      ]
     },
     "execution_count": 4,
     "metadata": {},
     "output_type": "execute_result"
    }
   ],
   "source": [
    "df.loc[1].Symptom"
   ]
  },
  {
   "cell_type": "markdown",
   "metadata": {},
   "source": [
    "CleanText\n",
    "\n",
    "As the sentences distribution are messy in some way. The main here idea is to first, remove all dots, truncate all trailing spaces. Then by the \n",
    "logic that all dot must followed by an UpperCased letter, except for the first letter in the sentence \n"
   ]
  },
  {
   "cell_type": "code",
   "execution_count": null,
   "metadata": {},
   "outputs": [],
   "source": [
    "# Test function before applying\n",
    "text = \"A.A.A. .\"\n",
    "re.sub(pattern=r\"\\.\", repl=\" \", string=text)"
   ]
  },
  {
   "cell_type": "code",
   "execution_count": null,
   "metadata": {},
   "outputs": [],
   "source": [
    "def cleanText(text):\n",
    "    text = re.sub(pattern=r\"\\.\", repl=\" \", string=text) # Remove dots\n",
    "    text = re.sub(pattern=r\"(  +)\", repl=\" \", string=text) # Remove trailing spaces\n",
    "    text = re.sub(pattern=r\"([A-Z])\", repl=r\". \\1\", string=text) # Adding dot before uppercased letters\n",
    "    \n",
    "    return text"
   ]
  },
  {
   "cell_type": "code",
   "execution_count": null,
   "metadata": {},
   "outputs": [],
   "source": [
    "df['Symptom'] = df['Symptom'].apply(lambda x:cleanText(x))"
   ]
  },
  {
   "cell_type": "code",
   "execution_count": null,
   "metadata": {},
   "outputs": [],
   "source": [
    "# Remove the leading dot\n",
    "prefix_dot = df[df['Symptom'].str[0] == '.'].index\n",
    "\n",
    "for idx in prefix_dot:\n",
    "    df.loc[idx, 'Symptom'] = df.loc[idx, 'Symptom'].replace(\".\", \"\", 1)"
   ]
  },
  {
   "cell_type": "markdown",
   "metadata": {},
   "source": [
    "Concat duplicate sentences\n",
    "\n",
    "+ Removing duplicated sentences using set. Consider lowercasing all letters for clearer data :>"
   ]
  },
  {
   "cell_type": "code",
   "execution_count": null,
   "metadata": {},
   "outputs": [],
   "source": [
    "def concatSymptom(text):\n",
    "   sentences = set(text.lower().split(\".\"))\n",
    "   return '.'.join([sentence for sentence in sentences if sentence is not None])"
   ]
  },
  {
   "cell_type": "code",
   "execution_count": null,
   "metadata": {},
   "outputs": [],
   "source": [
    "df['Symptom'] = df['Symptom'].apply(lambda x: concatSymptom(x))"
   ]
  },
  {
   "cell_type": "markdown",
   "metadata": {},
   "source": [
    "Unify Label"
   ]
  },
  {
   "cell_type": "code",
   "execution_count": null,
   "metadata": {},
   "outputs": [],
   "source": [
    "df['Department'].value_counts()"
   ]
  },
  {
   "cell_type": "code",
   "execution_count": null,
   "metadata": {},
   "outputs": [],
   "source": [
    "df['Category'].value_counts()"
   ]
  },
  {
   "cell_type": "code",
   "execution_count": null,
   "metadata": {},
   "outputs": [],
   "source": [
    "\n",
    "def LabelUnifier(label):\n",
    "    departments = {\n",
    "    \"Thần kinh - Tâm thần\": [\n",
    "        \"Thần kinh\", \"Nội thần kinh\", \"Ngoại thần kinh\", \"Tâm thần\", \"Tâm lý\"\n",
    "    ],\n",
    "    \"Hô hấp\": [\n",
    "        \"Hô hấp\"\n",
    "    ],\n",
    "    \"Truyền nhiễm\": [\n",
    "        \"Truyền nhiễm\"\n",
    "    ],\n",
    "    \"Tiết niệu - Nam khoa\": [\n",
    "        \"Tiết niệu\", \"Thận tiết niệu\", \"Nam khoa\", \"Nam học\"\n",
    "    ],\n",
    "    \"Nội tiết\": [\n",
    "        \"Nội tiết\", \"Nội tiết chuyển hóa\"\n",
    "    ],\n",
    "    \"Tiêu hóa - Gan mật\": [\n",
    "        \"Tiêu hóa\", \"Tiêu hóa - Gan mật\"\n",
    "    ],\n",
    "    \"Tim mạch - Mạch máu\": [\n",
    "        \"Tim mạch\", \"Mạch máu\"\n",
    "    ],\n",
    "    \"Ung thư\": [\n",
    "        \"Ung thư\", \"Ung bướu\"\n",
    "    ],\n",
    "    \"Di truyền\": [\n",
    "        \"Di truyền\"\n",
    "    ],\n",
    "    \"Răng hàm mặt\": [\n",
    "        \"Răng hàm mặt\"\n",
    "    ],\n",
    "    \"Tai mũi họng\": [\n",
    "        \"Tai mũi họng\"\n",
    "    ],\n",
    "    \"Da liễu\": [\n",
    "        \"Da liễu\", \"Da tóc móng\"\n",
    "    ],\n",
    "    \"Nhãn khoa\": [\n",
    "        \"Mắt\", \"Nhãn khoa\"\n",
    "    ],\n",
    "    \"Cơ xương khớp\": [\n",
    "        \"Cơ xương khớp\"\n",
    "    ],\n",
    "    \"Dị ứng\": [\n",
    "        \"Dị ứng\"\n",
    "    ],\n",
    "    \"Xét nghiệm\": [\n",
    "        \"Xét nghiệm\"\n",
    "    ],\n",
    "    \"Sản phụ khoa\": [\n",
    "        \"Sản phụ khoa\", \"Sức khỏe sinh sản\", \"Hỗ trợ sinh sản ivf\", \"Mang thai\"\n",
    "    ],\n",
    "    \"Máu\": [\n",
    "        \"Máu\", \"Máu miễn dịch\"\n",
    "    ],\n",
    "    \"Ngoại lồng ngực\": [\n",
    "        \"Ngoại lồng ngực\"\n",
    "    ]\n",
    "}\n",
    "    for department, keywords in departments.items():\n",
    "        if label in keywords: return department\n",
    "\n",
    "    return 0\n"
   ]
  },
  {
   "cell_type": "code",
   "execution_count": null,
   "metadata": {},
   "outputs": [],
   "source": [
    "df['Department'] = df['Department'].apply(lambda x:LabelUnifier(x))"
   ]
  },
  {
   "cell_type": "code",
   "execution_count": null,
   "metadata": {},
   "outputs": [],
   "source": [
    "df = df[~(df['Department'] == 0)]"
   ]
  },
  {
   "cell_type": "code",
   "execution_count": null,
   "metadata": {},
   "outputs": [],
   "source": [
    "df = df[['Symptom', 'Department', 'Category']]"
   ]
  },
  {
   "cell_type": "code",
   "execution_count": null,
   "metadata": {},
   "outputs": [],
   "source": [
    "df.to_csv(fix_path, index=False)"
   ]
  }
 ],
 "metadata": {
  "kernelspec": {
   "display_name": "ModelService",
   "language": "python",
   "name": "python3"
  },
  "language_info": {
   "codemirror_mode": {
    "name": "ipython",
    "version": 3
   },
   "file_extension": ".py",
   "mimetype": "text/x-python",
   "name": "python",
   "nbconvert_exporter": "python",
   "pygments_lexer": "ipython3",
   "version": "3.13.0"
  }
 },
 "nbformat": 4,
 "nbformat_minor": 2
}
