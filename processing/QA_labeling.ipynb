{
 "cells": [
  {
   "cell_type": "code",
   "execution_count": 1,
   "id": "cbe6b8c5",
   "metadata": {},
   "outputs": [],
   "source": [
    "import pandas as pd"
   ]
  },
  {
   "cell_type": "markdown",
   "id": "00acda52",
   "metadata": {},
   "source": [
    "QA_Symptom"
   ]
  },
  {
   "cell_type": "code",
   "execution_count": null,
   "id": "e31aa47c",
   "metadata": {},
   "outputs": [],
   "source": [
    "QA_path = r\"\"\n",
    "df = pd.read_csv(QA_path, index_col=False)"
   ]
  },
  {
   "cell_type": "markdown",
   "id": "83163d8a",
   "metadata": {},
   "source": [
    "read original dataset to extract departments"
   ]
  },
  {
   "cell_type": "code",
   "execution_count": null,
   "id": "170b3cbb",
   "metadata": {},
   "outputs": [
    {
     "data": {
      "text/plain": [
       "['fafa', 's']"
      ]
     },
     "execution_count": 6,
     "metadata": {},
     "output_type": "execute_result"
    }
   ],
   "source": [
    "import string\n",
    "\n",
    "\n",
    "sub_df = pd.read_csv(\"\")\n",
    "departments = sub_df.Department.unique()\n",
    "\n",
    "# Removing punctuations and lowercasing labels\n",
    "puncs = string.punctuation\n",
    "departments = [department.translate({ord(c): \"\" for c in puncs}).lower() for department in departments]\n"
   ]
  },
  {
   "cell_type": "markdown",
   "id": "66ad214a",
   "metadata": {},
   "source": [
    "Labeling with hope that the ducktor's would recommend the patient to a specific department, where they can get proper treatment"
   ]
  },
  {
   "cell_type": "code",
   "execution_count": 8,
   "id": "a65c8c52",
   "metadata": {},
   "outputs": [],
   "source": [
    "departments = [\"c\"]\n",
    "def Labeling(text):\n",
    "    for department in departments:\n",
    "        if department in text.lower(): return department\n",
    "    \n",
    "    return float('nan')\n"
   ]
  },
  {
   "cell_type": "code",
   "execution_count": null,
   "id": "634535cd",
   "metadata": {},
   "outputs": [],
   "source": [
    "df['Department'] = df['answer'].apply(lambda x: Labeling(x))\n",
    "df = df[~(df['Department'].isna())]"
   ]
  },
  {
   "cell_type": "markdown",
   "id": "281a224f",
   "metadata": {},
   "source": [
    "For the greater good"
   ]
  },
  {
   "cell_type": "code",
   "execution_count": null,
   "id": "d6330e1f",
   "metadata": {},
   "outputs": [],
   "source": [
    "df = df[['Symptom', 'Department']]\n",
    "ori_df = pd.read_csv(r\"\", index_col=False)\n",
    "ori_df = pd.concat([ori_df, df], axis=0)\n",
    "ori_df['Category'] = ori_df['Category'].fillna(\"QA\")\n",
    "\n",
    "ori_df.to_csv(r\"\")"
   ]
  }
 ],
 "metadata": {
  "kernelspec": {
   "display_name": "ModelService",
   "language": "python",
   "name": "python3"
  },
  "language_info": {
   "codemirror_mode": {
    "name": "ipython",
    "version": 3
   },
   "file_extension": ".py",
   "mimetype": "text/x-python",
   "name": "python",
   "nbconvert_exporter": "python",
   "pygments_lexer": "ipython3",
   "version": "3.13.0"
  }
 },
 "nbformat": 4,
 "nbformat_minor": 5
}
