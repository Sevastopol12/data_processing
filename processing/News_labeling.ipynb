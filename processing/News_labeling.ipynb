{
 "cells": [
  {
   "cell_type": "code",
   "execution_count": null,
   "metadata": {},
   "outputs": [],
   "source": [
    "import pandas as pd"
   ]
  },
  {
   "cell_type": "markdown",
   "metadata": {},
   "source": [
    "Labeling New's data "
   ]
  },
  {
   "cell_type": "markdown",
   "metadata": {},
   "source": [
    "Med.csv"
   ]
  },
  {
   "cell_type": "code",
   "execution_count": null,
   "metadata": {},
   "outputs": [],
   "source": [
    "med = pd.read_csv(r\"\")\n",
    "med = med.dropna(axis=0)"
   ]
  },
  {
   "cell_type": "code",
   "execution_count": null,
   "metadata": {},
   "outputs": [],
   "source": [
    "med['medicine'] = med['title'].apply(lambda x: 1 if 'thuốc' in x.lower() else 0)\n",
    "med = med[~(med['medicine'] ==1)]"
   ]
  },
  {
   "cell_type": "markdown",
   "metadata": {},
   "source": [
    "In addition, consider filtering out news, which title does not related to a disease. However, this will resulted in less observation"
   ]
  },
  {
   "cell_type": "code",
   "execution_count": null,
   "metadata": {},
   "outputs": [],
   "source": [
    "def signal(text):\n",
    "    for i in ['dấu hiệu', 'triệu chứng', 'biến chứng', 'biểu hiện', 'tai biến', \n",
    "              \"tình trạng\", \"bệnh cảnh\", \"hội chứng\", \"tổn thương\", \"tác động\",\n",
    "                \"hệ quả\", \"hậu quả\", \"tác hại\", \"ảnh hưởng\", \"biến đổi\", \"rối loạn\",\n",
    "                \"di chứng\", \"phản ứng\", \"tác dụng phụ\", \"bệnh trạng\"]:\n",
    "        if i in text.lower(): return 1\n",
    "    return 0"
   ]
  },
  {
   "cell_type": "code",
   "execution_count": null,
   "metadata": {},
   "outputs": [],
   "source": [
    "med['related'] = med['title'].apply(lambda x:signal(x))"
   ]
  },
  {
   "cell_type": "code",
   "execution_count": null,
   "metadata": {},
   "outputs": [],
   "source": [
    "med['related'] = med.apply(lambda x:1 if signal(x['content']) else x['related'], axis=1)"
   ]
  },
  {
   "cell_type": "code",
   "execution_count": null,
   "metadata": {},
   "outputs": [],
   "source": [
    "med = med[med['related'] ==1]"
   ]
  },
  {
   "cell_type": "markdown",
   "metadata": {},
   "source": [
    "Assign label base on keywords"
   ]
  },
  {
   "cell_type": "code",
   "execution_count": null,
   "metadata": {},
   "outputs": [],
   "source": [
    "def labeling(text):\n",
    "    keywords_by_department = {\n",
    "    \"Tâm thần\": [\n",
    "        \"rối loạn lo âu\", \"trầm cảm nặng\", \"tâm thần phân liệt\", \"hoang tưởng\", \"rối loạn lưỡng cực\",\n",
    "        \"rối loạn hoảng sợ\", \"lo âu xã hội\", \"hội chứng căng thẳng\", \"stress kéo dài\", \"ảo giác thính giác\",\n",
    "        \"chứng mất ngủ do lo âu\", \"rối loạn hành vi\", \"tâm lý bất ổn\", \"trầm cảm sau sinh\", \"rối loạn nhận thức\",\n",
    "        \"tâm thần tuổi già\", \"hội chứng tự kỷ\", \"rối loạn ám ảnh cưỡng chế\", \"căng thẳng sau chấn thương\", \"rối loạn phân ly\"\n",
    "    ],\n",
    "    \"Tiết niệu\": [\n",
    "        \"sỏi thận\", \"viêm bàng quang\", \"nhiễm trùng đường tiết niệu\", \"tiểu buốt\", \"tiểu đêm\",\n",
    "        \"bàng quang kích thích\", \"tiểu không kiểm soát\", \"viêm niệu đạo\", \"hội chứng thận hư\", \"suy thận mạn\",\n",
    "        \"viêm cầu thận\", \"bệnh lý bàng quang\", \"ung thư bàng quang\", \"sỏi niệu quản\", \"viêm bể thận\",\n",
    "        \"hội chứng tiểu nhiều lần\", \"hẹp niệu đạo\", \"rối loạn tiểu tiện\", \"suy thận cấp\", \"đái tháo nhạt\"\n",
    "    ],\n",
    "    \"Hô hấp\": [\n",
    "        \"hen suyễn\", \"viêm phổi\", \"viêm phế quản\", \"bệnh phổi tắc nghẽn mạn tính\", \"khó thở kéo dài\",\n",
    "        \"lao phổi\", \"viêm thanh quản\", \"viêm xoang mãn tính\", \"tắc nghẽn đường thở\", \"viêm màng phổi\",\n",
    "        \"hội chứng suy hô hấp\", \"xơ phổi\", \"bệnh phổi nghề nghiệp\", \"ung thư phổi\", \"áp xe phổi\",\n",
    "        \"bệnh nhiễm trùng phổi\", \"hội chứng khó thở\", \"bệnh phổi kẽ\", \"viêm mũi dị ứng\", \"bệnh lý phế nang\", \"màng phổi\"\n",
    "    ],\n",
    "    \"Tâm lý\": [\n",
    "        \"tự ti\", \"tự kỷ\", \"căng thẳng tâm lý\", \"suy giảm trí nhớ\", \"rối loạn cảm xúc\",\n",
    "        \"sợ xã hội\", \"rối loạn hành vi\", \"áp lực cuộc sống\", \"hội chứng sợ đám đông\", \"trầm cảm học đường\",\n",
    "        \"tâm lý trẻ em\", \"khủng hoảng tinh thần\", \"rối loạn giấc ngủ do tâm lý\", \"tâm lý trong công việc\",\n",
    "        \"hội chứng kiệt sức\", \"hỗ trợ tâm lý\", \"tâm lý thanh thiếu niên\", \"chứng hay quên\", \"tự làm hại bản thân\",\n",
    "        \"tâm lý sau ly hôn\"\n",
    "    ],\n",
    "    \"Nội thần kinh\": [\n",
    "        \"đột quỵ\", \"tai biến mạch máu não\", \"đau đầu mãn tính\", \"đau nửa đầu\", \"rối loạn tiền đình\",\n",
    "        \"bệnh Parkinson\", \"động kinh\", \"mất trí nhớ\", \"bệnh Alzheimer\", \"thoái hóa thần kinh\",\n",
    "        \"rối loạn vận động\", \"viêm não\", \"bệnh đa xơ cứng\", \"hội chứng chân không yên\", \"suy giảm trí nhớ tuổi già\",\n",
    "        \"viêm tủy sống\", \"bại não\", \"tổn thương thần kinh\", \"hội chứng Guillain-Barré\", \"bệnh Huntington\"\n",
    "    ],\n",
    "    \"Truyền nhiễm\": [\n",
    "        \"cúm\", \"viêm gan\", \"sởi\", \"dại\", \"bệnh lao\", \"bệnh bạch hầu\", \"thuỷ đậu\", \"sốt xuất huyết\", \n",
    "        \"tả\", \"dengue\", \"COVID-19\", \"HIV/AIDS\", \"bệnh viêm phổi\", \"bệnh tay chân miệng\", \"bệnh lỵ\",\n",
    "        \"viêm màng não\", \"rối loạn miễn dịch\", \"viêm ruột\", \"dịch cúm\", \"nhiễm trùng huyết\"\n",
    "    ],\n",
    "    \"Ngoại thần kinh\": [\n",
    "        \"phẫu thuật thần kinh\", \"u não\", \"chấn thương sọ não\", \"tổn thương tủy sống\", \"bệnh thần kinh ngoại vi\",\n",
    "        \"đau thần kinh\", \"thần kinh sọ\", \"phẫu thuật sọ não\", \"rối loạn vận động\", \"bệnh thần kinh di truyền\",\n",
    "        \"bệnh lý não bộ\", \"phẫu thuật tủy sống\", \"cắt bỏ u thần kinh\", \"hội chứng thần kinh tự chủ\", \"rối loạn thần kinh\",\n",
    "        \"cấy ghép thần kinh\", \"bệnh Parkinson\", \"suy giảm chức năng thần kinh\", \"bệnh đa xơ cứng\", \"chẩn đoán thần kinh\"\n",
    "    ],\n",
    "    \"Ngoại lồng ngực\": [\n",
    "        \"phẫu thuật phổi\", \"ung thư phổi\", \"viêm màng phổi\", \"xẹp phổi\", \"bệnh lý phế quản\", \n",
    "        \"phẫu thuật lồng ngực\", \"viêm phổi\", \"tắc nghẽn phổi\", \"u phổi\", \"bệnh lý mạch máu phổi\", \n",
    "        \"bệnh lý phế nang\", \"đau ngực\", \"cắt bỏ phổi\", \"hút dịch phổi\", \"mổ phổi\", \"tổn thương phổi\", \n",
    "        \"suy hô hấp\", \"sàng lọc ung thư phổi\", \"thủng phổi\", \"giãn phế quản\"\n",
    "    ],\n",
    "    \"Nam khoa\": [\n",
    "        \"rối loạn cương dương\", \"tinh trùng yếu\", \"hiếm muộn\", \"ung thư tinh hoàn\", \"mãn dục nam\", \n",
    "        \"cắt bao quy đầu\", \"hẹp bao quy đầu\", \"bệnh lý tuyến tiền liệt\", \"suy giảm testosterone\", \"yếu sinh lý\",\n",
    "        \"viêm tinh hoàn\", \"rối loạn xuất tinh\", \"bệnh lý niệu đạo\", \"sinh lý nam giới\", \"bệnh lý dương vật\", \n",
    "        \"thẩm mỹ nam khoa\", \"bệnh lý tuyến tiền liệt\", \"chẩn đoán vô sinh\", \"bệnh lý sinh lý nam\", \"cắt bỏ tuyến tiền liệt\"\n",
    "    ],\n",
    "    \"Nội tiết\": [\n",
    "        \"tiểu đường\", \"bệnh cường giáp\", \"suy giáp\", \"tăng huyết áp\", \"béo phì\", \"hội chứng Cushing\", \n",
    "        \"thiếu insulin\", \"tăng cường insulin\", \"rối loạn nội tiết tố\", \"suy tuyến giáp\", \"bệnh Addison\", \n",
    "        \"hội chứng buồng trứng đa nang\", \"cường cortisol\", \"đái tháo đường loại 1\", \"hormon sinh dục\", \n",
    "        \"bệnh tiểu đường thai kỳ\", \"tăng đường huyết\", \"hạ đường huyết\", \"bệnh lý tuyến tụy\", \"tăng cường bài tiết insulin\"\n",
    "    ],\n",
    "    \"Tiêu hóa - Gan mật\": [\n",
    "        \"viêm gan\", \"xơ gan\", \"sỏi mật\", \"viêm dạ dày\", \"bệnh Crohn\", \"viêm đại tràng\", \"ung thư gan\", \n",
    "        \"bệnh gan nhiễm mỡ\", \"hội chứng ruột kích thích\", \"loét dạ dày\", \"tiêu chảy mãn tính\", \"rối loạn tiêu hóa\", \n",
    "        \"tắc nghẽn đường mật\", \"viêm gan virus\", \"bệnh lý tụy\", \"bệnh lý gan mật\", \"phẫu thuật gan\", \"tắc mật\", \n",
    "        \"nhiễm trùng tiêu hóa\", \"tắc nghẽn gan\"\n",
    "    ],\n",
    "    \"Mạch máu\": [\n",
    "        \"xơ vữa động mạch\", \"cao huyết áp\", \"tắc nghẽn mạch máu\", \"đột quỵ\", \"thuyên tắc mạch\", \"dãn tĩnh mạch\", \n",
    "        \"suy tĩnh mạch\", \"tai biến mạch máu não\", \"mạch vành\", \"phẫu thuật mạch máu\", \"tắc động mạch\", \n",
    "        \"bệnh động mạch ngoại vi\", \"huyết khối\", \"viêm tĩnh mạch\", \"bệnh động mạch chủ\", \"rối loạn mạch máu\", \n",
    "        \"hội chứng mạch máu\", \"bệnh lý mạch máu nhỏ\", \"phình động mạch\", \"bệnh mạch máu não\"\n",
    "    ],\n",
    "    \"Tim mạch\": [\n",
    "        \"suy tim\", \"tăng huyết áp\", \"nhồi máu cơ tim\", \"tai biến mạch máu não\", \"rối loạn nhịp tim\", \n",
    "        \"đột quỵ\", \"bệnh mạch vành\", \"bệnh tim bẩm sinh\", \"hẹp động mạch vành\", \"bệnh động mạch chủ\", \n",
    "        \"phẫu thuật tim\", \"phình mạch\", \"bệnh van tim\", \"suy tim trái\", \"rối loạn huyết áp\", \"tắc nghẽn động mạch\", \n",
    "        \"bệnh lý động mạch\", \"suy tim phải\", \"bệnh tim mạch\", \"nhịp tim bất thường\"\n",
    "    ],\n",
    "    \"Ung thư\": [\n",
    "        \"ung thư phổi\", \"ung thư vú\", \"ung thư gan\", \"ung thư dạ dày\", \"ung thư đại tràng\",\n",
    "        \"ung thư cổ tử cung\", \"ung thư não\", \"ung thư tuyến giáp\", \"ung thư da\", \"ung thư bàng quang\",\n",
    "        \"ung thư buồng trứng\", \"ung thư tuyến tiền liệt\", \"ung thư máu\", \"di căn\", \"hoá trị\",\n",
    "        \"xạ trị\", \"chữa ung thư\", \"khối u ác tính\", \"phẫu thuật ung thư\", \"hóa chất ung thư\"\n",
    "    ],\n",
    "    \"Di truyền\": [\n",
    "        \"bệnh di truyền\", \"di truyền học\", \"đột biến gen\", \"bệnh di truyền tự phát\", \"di truyền lặn\", \n",
    "        \"di truyền trội\", \"rối loạn gen\", \"bệnh di truyền hiếm gặp\", \"bệnh máu di truyền\", \"gen đột biến\", \n",
    "        \"sàng lọc di truyền\", \"phân tích di truyền\", \"bệnh Huntington\", \"bệnh thalassemia\", \"sơ đồ di truyền\",\n",
    "        \"bệnh Down\", \"rối loạn di truyền x\", \"bệnh di truyền liên kết giới tính\", \"bệnh di truyền autosomal\", \"gen di truyền\"\n",
    "    ],\n",
    "    \"Răng hàm mặt\": [\n",
    "        \"viêm lợi\", \"sâu răng\", \"hôi miệng\", \"răng khôn\", \"chỉnh hình răng\", \"phẫu thuật răng\", \n",
    "        \"cấy ghép răng\", \"rối loạn khớp cắn\", \"mất răng\", \"bệnh nha chu\", \"niềng răng\", \"bệnh lý răng miệng\", \n",
    "        \"mòn men răng\", \"răng sứ\", \"hư hỏng răng\", \"viêm miệng\", \"lở miệng\", \"lở loét miệng\", \"chăm sóc răng miệng\", \"viêm nướu\"\n",
    "    ],\n",
    "    \"Tai mũi họng\": [\n",
    "        \"viêm mũi\", \"sổ mũi\", \"viêm xoang\", \"viêm họng\", \"đau họng\", \"viêm amidan\", \"tắc nghẽn mũi\", \n",
    "        \"chảy mũi\", \"sưng amidan\", \"dị ứng mũi\", \"viêm thanh quản\", \"rối loạn thính giác\", \"mất thính lực\", \n",
    "        \"nhiễm trùng tai\", \"chảy máu mũi\", \"phẫu thuật mũi\", \"phẫu thuật tai\", \"khối u mũi\", \"màng nhĩ thủng\", \"dị vật mũi\",\"thính giác\"\n",
    "    ],\n",
    "    \"Thần kinh\": [\n",
    "        \"đột quỵ\", \"rối loạn thần kinh\", \"bệnh thần kinh ngoại vi\", \"rối loạn vận động\", \"bệnh lý não bộ\", \n",
    "        \"mất trí nhớ\", \"bệnh Parkinson\", \"rối loạn cảm xúc\", \"viêm não\", \"căng thẳng thần kinh\", \"suy giảm trí nhớ\", \n",
    "        \"tổn thương thần kinh\", \"đau thần kinh\", \"thần kinh tự chủ\", \"rối loạn thần kinh ngoại biên\", \"đau nửa đầu\", \n",
    "        \"chấn thương sọ não\", \"hội chứng đau đầu\", \"suy giảm chức năng thần kinh\", \"chấn thương tủy sống\"\n",
    "    ],\n",
    "    \"Dị ứng\": [\n",
    "        \"dị ứng thuốc\", \"dị ứng thực phẩm\", \"dị ứng phấn hoa\", \"dị ứng da\", \"hen suyễn dị ứng\", \"ngứa\", \n",
    "        \"mày đay\", \"sốc phản vệ\", \"viêm da dị ứng\", \"viêm mũi dị ứng\", \"chàm\", \"eczema\", \"nổi mẩn đỏ\", \n",
    "        \"phản ứng dị ứng\", \"viêm mắt dị ứng\", \"chứng dị ứng đường hô hấp\", \"dị ứng môi trường\", \"phản ứng quá mẫn\", \n",
    "        \"dị ứng thời tiết\", \"bệnh dị ứng mùa\"\n",
    "    ],\n",
    "    \"Xét nghiệm\": [\n",
    "        \"xét nghiệm máu\", \"xét nghiệm nước tiểu\", \"xét nghiệm hình ảnh\", \"siêu âm\", \"CT scan\", \"MRI\", \n",
    "        \"xét nghiệm di truyền\", \"sàng lọc bệnh\", \"xét nghiệm chức năng gan\", \"xét nghiệm huyết học\", \"xét nghiệm vi sinh\", \n",
    "        \"tầm soát ung thư\", \"xét nghiệm PCR\", \"xét nghiệm chẩn đoán\", \"xét nghiệm huyết áp\", \"chẩn đoán hình ảnh\", \n",
    "        \"test phản ứng\", \"xét nghiệm enzyme\", \"kiểm tra đường huyết\", \"test nhanh COVID-19\"\n",
    "    ],\n",
    "    \"Mắt\": [\n",
    "        \"viêm kết mạc\", \"cận thị\", \"loạn thị\", \"viêm giác mạc\", \"đục thủy tinh thể\", \"bệnh võng mạc\", \n",
    "        \"glaucoma\", \"mù màu\", \"rối loạn thị giác\", \"suy giảm thị lực\", \"phẫu thuật mắt\", \"mắt khô\", \n",
    "        \"nhiễm trùng mắt\", \"cận thị nặng\", \"mổ mắt cận\", \"loạn dưỡng giác mạc\", \"bệnh lý mắt\", \"cải thiện thị lực\", \n",
    "        \"kiểm tra mắt\", \"bệnh lý võng mạc\"\n",
    "    ],\n",
    "    \"Máu\": [\n",
    "        \"thiếu máu\", \"bệnh bạch cầu\", \"huyết khối\", \"tăng bạch cầu\", \"giảm bạch cầu\", \"bệnh máu hiếm\", \n",
    "        \"hội chứng máu\", \"rối loạn đông máu\", \"máu không đông\", \"phẫu thuật ghép tế bào gốc\", \"bệnh lý máu\", \n",
    "        \"máu tươi\", \"hội chứng thiếu máu\", \"chẩn đoán bệnh máu\", \"máu bất thường\", \"bệnh máu ác tính\", \n",
    "        \"tăng huyết áp\", \"mất máu\", \"bệnh lý hồng cầu\", \"xét nghiệm máu\"\n",
    "    ],\n",
    "    \"Da liễu\": [\n",
    "        \"mụn trứng cá\", \"viêm da dị ứng\", \"bệnh vảy nến\", \"hắc lào\", \"rụng tóc\", \"viêm da tiết bã\", \n",
    "        \"nấm da\", \"mề đay\", \"bệnh mụn\", \"chàm da\", \"tàn nhang\", \"mụn đầu đen\", \"mụn mủ\", \"rạn da\", \n",
    "        \"phát ban\", \"viêm lỗ chân lông\", \"bệnh da mặt\", \"bệnh chàm\", \"bệnh vẩy nến\", \"mụn nước\"\n",
    "    ],\n",
    "    \"Tiêu hóa\": [\n",
    "        \"viêm dạ dày\", \"xơ gan\", \"sỏi mật\", \"rối loạn tiêu hóa\", \"bệnh Crohn\", \"viêm đại tràng\", \n",
    "        \"tắc nghẽn ruột\", \"nôn mửa\", \"bệnh lý gan mật\", \"tiêu chảy\", \"rối loạn tiêu hóa mãn tính\", \"trào ngược dạ dày\", \n",
    "        \"tắc nghẽn ruột\", \"đau dạ dày\", \"loét dạ dày\", \"bệnh lý đường ruột\", \"dị ứng thực phẩm\", \n",
    "        \"bệnh lý tụy\", \"đầy bụng\"\n",
    "    ],\n",
    "    \"Ung bướu\": [\n",
    "        \"ung thư vú\", \"ung thư gan\", \"ung thư dạ dày\", \"ung thư đại tràng\", \"ung thư phổi\", \"ung thư buồng trứng\", \n",
    "        \"u não\", \"u xơ tử cung\", \"u tuyến giáp\", \"di căn\", \"hoá trị\", \"xạ trị\", \"khối u ác tính\", \"phẫu thuật ung thư\", \n",
    "        \"u bướu lành\", \"ung thư máu\", \"bệnh lý ung thư\", \"sàng lọc ung thư\", \"kết quả xét nghiệm ung thư\"\n",
    "    ],\n",
    "    \"Dinh dưỡng\": [\n",
    "        \"chế độ ăn kiêng\", \"chế độ dinh dưỡng\", \"dinh dưỡng hợp lý\", \"thực phẩm bổ sung\", \"dinh dưỡng giảm cân\", \n",
    "        \"dinh dưỡng cho bệnh nhân tiểu đường\", \"dinh dưỡng cho trẻ em\", \"dinh dưỡng cho người cao tuổi\", \"ăn uống lành mạnh\", \n",
    "        \"thực phẩm cho sức khỏe\", \"giảm cân hiệu quả\", \"bổ sung vitamin\", \"dinh dưỡng cho người bệnh\", \"chế độ ăn uống khoa học\", \n",
    "        \"dinh dưỡng cho người tập thể dục\", \"sữa bột cho trẻ\", \"thực phẩm chức năng\", \"dinh dưỡng cho phụ nữ mang thai\", \"ăn chay\", \"giảm mỡ cơ thể\"\n",
    "    ]\n",
    "}\n",
    "    for department, keywords in keywords_by_department.items():\n",
    "        for keyword in keywords:\n",
    "            if keyword in text.lower(): return department\n"
   ]
  },
  {
   "cell_type": "code",
   "execution_count": null,
   "metadata": {},
   "outputs": [],
   "source": [
    "med['Department'] = med['title'].apply(lambda x: labeling(x))\n",
    "med = med[~(med['Department'].isna())]"
   ]
  },
  {
   "cell_type": "markdown",
   "metadata": {},
   "source": [
    "Read the original dataset, then concat the new one in :>"
   ]
  },
  {
   "cell_type": "code",
   "execution_count": null,
   "metadata": {},
   "outputs": [],
   "source": [
    "df = pd.read_csv(r\"\")\n",
    "\n",
    "df = pd.concat([df, med], axis=0)[['Symptom', 'Department', 'Disease', 'Category']]\n",
    "df['Category'] = df['Category'].fillna('News')"
   ]
  },
  {
   "cell_type": "code",
   "execution_count": null,
   "metadata": {},
   "outputs": [],
   "source": [
    "med.to_csv(r\"\", index=False)"
   ]
  }
 ],
 "metadata": {
  "kernelspec": {
   "display_name": "ModelService",
   "language": "python",
   "name": "python3"
  },
  "language_info": {
   "codemirror_mode": {
    "name": "ipython",
    "version": 3
   },
   "file_extension": ".py",
   "mimetype": "text/x-python",
   "name": "python",
   "nbconvert_exporter": "python",
   "pygments_lexer": "ipython3",
   "version": "3.13.0"
  }
 },
 "nbformat": 4,
 "nbformat_minor": 2
}
